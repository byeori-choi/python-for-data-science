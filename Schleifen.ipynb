{
 "cells": [
  {
   "cell_type": "markdown",
   "metadata": {},
   "source": [
    "### Die for-Schleife (Einführung)"
   ]
  },
  {
   "cell_type": "code",
   "execution_count": 20,
   "metadata": {},
   "outputs": [
    {
     "name": "stdout",
     "output_type": "stream",
     "text": [
      "Hallo Welt\n",
      "Hallo Welt\n",
      "Hallo Welt\n",
      "Hallo Welt\n",
      "Hallo Welt\n",
      "Hallo Welt\n",
      "Hallo Welt\n",
      "Hallo Welt\n",
      "Hallo Welt\n"
     ]
    }
   ],
   "source": [
    "for i in range(1,10):\n",
    "    print(\"Hallo Welt\")"
   ]
  },
  {
   "cell_type": "code",
   "execution_count": 21,
   "metadata": {},
   "outputs": [
    {
     "name": "stdout",
     "output_type": "stream",
     "text": [
      "[1, 2, 3, 4, 5, 6, 7, 8, 9]\n",
      "[1, 2, 3, 4, 5, 6, 7, 8, 9, 10]\n"
     ]
    }
   ],
   "source": [
    "print(list(range(1,10))) # Wie eine Liste mit den Zahlen 1 bis 9\n",
    "print(list(range(1,11)))"
   ]
  },
  {
   "cell_type": "markdown",
   "metadata": {},
   "source": [
    "### Die for-Schleife (Beispiel)"
   ]
  },
  {
   "cell_type": "code",
   "execution_count": 22,
   "metadata": {},
   "outputs": [
    {
     "name": "stdout",
     "output_type": "stream",
     "text": [
      "Hallo Welt: 1\n",
      "Hallo Welt: 13\n",
      "Hallo Welt: 42\n",
      "Hallo Welt: 55\n"
     ]
    }
   ],
   "source": [
    "for i in [1, 13, 42, 55]:\n",
    "    print(\"Hallo Welt: \" + str(i))\n",
    "\n",
    "# Hallo Welt wird 4 mal gedruckt weil 4 Elemente da sind"
   ]
  },
  {
   "cell_type": "code",
   "execution_count": 23,
   "metadata": {},
   "outputs": [
    {
     "name": "stdout",
     "output_type": "stream",
     "text": [
      "Hallo Welt: 1\n",
      "Hallo Welt: 13\n",
      "Hallo Welt: 42\n",
      "Hallo Welt: 55\n"
     ]
    }
   ],
   "source": [
    "numbers = [1, 13, 42, 55]\n",
    "\n",
    "for number in numbers:\n",
    "    print(\"Hallo Welt: \" + str(number))"
   ]
  },
  {
   "cell_type": "code",
   "execution_count": 24,
   "metadata": {},
   "outputs": [
    {
     "name": "stdout",
     "output_type": "stream",
     "text": [
      "Hallo Welt: 1\n",
      "Hallo Welt: 13\n",
      "Hallo Welt: 42\n",
      "Hallo Welt: 55\n"
     ]
    }
   ],
   "source": [
    "xyz = [1, 13, 42, 55]\n",
    "\n",
    "for abc in xyz:\n",
    "    print(\"Hallo Welt: \" + str(abc))"
   ]
  },
  {
   "cell_type": "code",
   "execution_count": 28,
   "metadata": {},
   "outputs": [
    {
     "name": "stdout",
     "output_type": "stream",
     "text": [
      "5050\n"
     ]
    }
   ],
   "source": [
    "# Aufgabe: Summiere alle Zahlen zwischen 1 und 100 auf!\n",
    "\n",
    "#print(list((range(1,101))))\n",
    "\n",
    "s=0\n",
    "\n",
    "for i in range(1,101):\n",
    "    #s=s+i\n",
    "    s += i\n",
    "    #print(\"i = \" + str(i) + \", s = \" + str(s))\n",
    "\n",
    "print(s)"
   ]
  },
  {
   "cell_type": "code",
   "execution_count": 29,
   "metadata": {},
   "outputs": [
    {
     "name": "stdout",
     "output_type": "stream",
     "text": [
      "5050\n"
     ]
    }
   ],
   "source": [
    "print(sum(range(1,101))) # interne Funktion von Python"
   ]
  },
  {
   "cell_type": "markdown",
   "metadata": {},
   "source": [
    "### Die for-Schleife (und Strings)"
   ]
  },
  {
   "cell_type": "code",
   "execution_count": 32,
   "metadata": {},
   "outputs": [
    {
     "name": "stdout",
     "output_type": "stream",
     "text": [
      "h\n",
      "a\n",
      "l\n",
      "l\n",
      "o\n",
      " \n",
      "w\n",
      "e\n",
      "l\n",
      "t\n"
     ]
    }
   ],
   "source": [
    "text =  \"Hallo Welt\"\n",
    "\n",
    "for xyz in text.lower(): # in Kleinbuchstaben\n",
    "    print(xyz)"
   ]
  },
  {
   "cell_type": "code",
   "execution_count": 37,
   "metadata": {},
   "outputs": [
    {
     "name": "stdout",
     "output_type": "stream",
     "text": [
      "final: h., char: h\n",
      "final: h.a., char: a\n",
      "final: h.a.l., char: l\n",
      "final: h.a.l.l., char: l\n",
      "final: h.a.l.l.o., char: o\n",
      "final: h.a.l.l.o. ., char:  \n",
      "final: h.a.l.l.o. .w., char: w\n",
      "final: h.a.l.l.o. .w.e., char: e\n",
      "final: h.a.l.l.o. .w.e.l., char: l\n",
      "final: h.a.l.l.o. .w.e.l.t., char: t\n",
      "h.a.l.l.o. .w.e.l.t.\n"
     ]
    }
   ],
   "source": [
    "text = \"Hallo Welt\"\n",
    "\n",
    "final = \"\"\n",
    "\n",
    "for char in text.lower():\n",
    "    final = final + char + \".\"\n",
    "    print(\"final: \" + final + \", char: \" + char)\n",
    "\n",
    "print(final)"
   ]
  },
  {
   "cell_type": "markdown",
   "metadata": {},
   "source": [
    "### Die for-Schleife: List Comprehensioins"
   ]
  },
  {
   "cell_type": "code",
   "execution_count": 38,
   "metadata": {},
   "outputs": [
    {
     "name": "stdout",
     "output_type": "stream",
     "text": [
      "Max\n",
      "Monika\n",
      "Claudia\n"
     ]
    }
   ],
   "source": [
    "names = [\"Max\", \"Monika\", \"Claudia\"]\n",
    "\n",
    "for name in names:\n",
    "    print(name)"
   ]
  },
  {
   "cell_type": "code",
   "execution_count": 39,
   "metadata": {},
   "outputs": [
    {
     "name": "stdout",
     "output_type": "stream",
     "text": [
      "Max\n",
      "Monika\n",
      "Claudia\n"
     ]
    }
   ],
   "source": [
    "abc = [\"Max\", \"Monika\", \"Claudia\"]\n",
    "\n",
    "for xyz in abc:\n",
    "    print(xyz)"
   ]
  },
  {
   "cell_type": "code",
   "execution_count": 41,
   "metadata": {},
   "outputs": [
    {
     "name": "stdout",
     "output_type": "stream",
     "text": [
      "['Hallo Max', 'Hallo Monika', 'Hallo Claudia']\n"
     ]
    }
   ],
   "source": [
    "names = [\"Max\", \"Monika\", \"Claudia\"]\n",
    "\n",
    "greetings = [] # Am Anfang ist die Liste leer\n",
    "\n",
    "for name in names:\n",
    "    greetings.append(\"Hallo \" + name)\n",
    "    \n",
    "print(greetings)"
   ]
  },
  {
   "cell_type": "code",
   "execution_count": 46,
   "metadata": {},
   "outputs": [
    {
     "name": "stdout",
     "output_type": "stream",
     "text": [
      "['Hallo Max', 'Hallo Monika', 'Hallo Claudia']\n"
     ]
    }
   ],
   "source": [
    "names = [\"Max\", \"Monika\", \"Claudia\"]\n",
    "greetings = [\"Hallo \" + name for name in names]\n",
    "print(greetings)"
   ]
  },
  {
   "cell_type": "code",
   "execution_count": 42,
   "metadata": {},
   "outputs": [
    {
     "name": "stdout",
     "output_type": "stream",
     "text": [
      "[3, 6, 7]\n"
     ]
    }
   ],
   "source": [
    "names = [\"Max\", \"Monika\", \"Claudia\"]\n",
    "\n",
    "lengths = []\n",
    "\n",
    "for name in names:\n",
    "    lengths.append(len(name))\n",
    "    \n",
    "print(lengths)"
   ]
  },
  {
   "cell_type": "code",
   "execution_count": 47,
   "metadata": {},
   "outputs": [
    {
     "name": "stdout",
     "output_type": "stream",
     "text": [
      "[3, 6, 7]\n"
     ]
    }
   ],
   "source": [
    "names = [\"Max\", \"Monika\", \"Claudia\"]\n",
    "\n",
    "lengths = [len(name) for name in names] # python-like-Code\n",
    "\n",
    "print(lengths)"
   ]
  },
  {
   "cell_type": "code",
   "execution_count": 48,
   "metadata": {},
   "outputs": [
    {
     "name": "stdout",
     "output_type": "stream",
     "text": [
      "['Hallo Max', 'Hallo Monika']\n"
     ]
    }
   ],
   "source": [
    "# Komplexeres Beispiel: Begrüßungen generieren, für alle Teilnehmer\n",
    "# deren Name mit \"M\" anfängt\n",
    "\n",
    "names = [\"Max\", \"Monika\", \"Claudia\"]\n",
    "greetings = []\n",
    "\n",
    "for name in names:\n",
    "    if name[0] == \"M\":\n",
    "        greetings.append(\"Hallo \" + name)\n",
    "\n",
    "print(greetings)"
   ]
  },
  {
   "cell_type": "code",
   "execution_count": 51,
   "metadata": {},
   "outputs": [
    {
     "name": "stdout",
     "output_type": "stream",
     "text": [
      "['Hallo Max', 'Hallo Monika']\n"
     ]
    }
   ],
   "source": [
    "names = [\"Max\", \"Monika\", \"Claudia\"]\n",
    "\n",
    "greetings = [\"Hallo \" + name for name in names if name[0] == \"M\"] # sehr sehr python-like\n",
    "print(greetings)"
   ]
  },
  {
   "cell_type": "code",
   "execution_count": 54,
   "metadata": {},
   "outputs": [
    {
     "name": "stdout",
     "output_type": "stream",
     "text": [
      "[3, 6, 9, 12, 15, 18, 21, 24, 27, 30, 33, 36, 39, 42, 45, 48, 51, 54, 57, 60, 63, 66, 69, 72, 75, 78, 81, 84, 87, 90, 93, 96, 99]\n",
      "[3, 6, 9, 12, 15, 18, 21, 24, 27, 30, 33, 36, 39, 42, 45, 48, 51, 54, 57, 60, 63, 66, 69, 72, 75, 78, 81, 84, 87, 90, 93, 96, 99]\n"
     ]
    }
   ],
   "source": [
    "# Aufgabe: Gebe alle Zahlen zwischen 1 und 100 aus, sofern sie durch 3 teilbar sind.\n",
    "# Test: Ist die Zahl x durch 3 teilbar?\n",
    "\n",
    "# Lösung 1\n",
    "answer = []\n",
    "\n",
    "for x in range(1,101):\n",
    "    if x % 3 == 0:\n",
    "        answer.append(x)\n",
    "\n",
    "print(answer)\n",
    "\n",
    "# Lösung 2\n",
    "print([i for i in range(1,101) if i % 3 == 0])"
   ]
  },
  {
   "cell_type": "markdown",
   "metadata": {},
   "source": [
    "### Die while-Schleife"
   ]
  },
  {
   "cell_type": "code",
   "execution_count": null,
   "metadata": {},
   "outputs": [],
   "source": []
  }
 ],
 "metadata": {
  "kernelspec": {
   "display_name": "Python 3",
   "language": "python",
   "name": "python3"
  },
  "language_info": {
   "codemirror_mode": {
    "name": "ipython",
    "version": 3
   },
   "file_extension": ".py",
   "mimetype": "text/x-python",
   "name": "python",
   "nbconvert_exporter": "python",
   "pygments_lexer": "ipython3",
   "version": "3.12.0"
  }
 },
 "nbformat": 4,
 "nbformat_minor": 2
}
