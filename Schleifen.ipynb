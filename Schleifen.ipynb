{
 "cells": [
  {
   "cell_type": "markdown",
   "metadata": {},
   "source": [
    "### Die for-Schleife (Einführung)"
   ]
  },
  {
   "cell_type": "code",
   "execution_count": 84,
   "metadata": {},
   "outputs": [
    {
     "name": "stdout",
     "output_type": "stream",
     "text": [
      "Hallo Welt\n",
      "Hallo Welt\n",
      "Hallo Welt\n",
      "Hallo Welt\n",
      "Hallo Welt\n",
      "Hallo Welt\n",
      "Hallo Welt\n",
      "Hallo Welt\n",
      "Hallo Welt\n"
     ]
    }
   ],
   "source": [
    "for i in range(1,10):\n",
    "    print(\"Hallo Welt\")"
   ]
  },
  {
   "cell_type": "code",
   "execution_count": 85,
   "metadata": {},
   "outputs": [
    {
     "name": "stdout",
     "output_type": "stream",
     "text": [
      "[1, 2, 3, 4, 5, 6, 7, 8, 9]\n",
      "[1, 2, 3, 4, 5, 6, 7, 8, 9, 10]\n"
     ]
    }
   ],
   "source": [
    "print(list(range(1,10))) # Wie eine Liste mit den Zahlen 1 bis 9\n",
    "print(list(range(1,11)))"
   ]
  },
  {
   "cell_type": "markdown",
   "metadata": {},
   "source": [
    "### Die for-Schleife (Beispiel)"
   ]
  },
  {
   "cell_type": "code",
   "execution_count": 86,
   "metadata": {},
   "outputs": [
    {
     "name": "stdout",
     "output_type": "stream",
     "text": [
      "Hallo Welt: 1\n",
      "Hallo Welt: 13\n",
      "Hallo Welt: 42\n",
      "Hallo Welt: 55\n"
     ]
    }
   ],
   "source": [
    "for i in [1, 13, 42, 55]:\n",
    "    print(\"Hallo Welt: \" + str(i))\n",
    "\n",
    "# Hallo Welt wird 4 mal gedruckt weil 4 Elemente da sind"
   ]
  },
  {
   "cell_type": "code",
   "execution_count": 87,
   "metadata": {},
   "outputs": [
    {
     "name": "stdout",
     "output_type": "stream",
     "text": [
      "Hallo Welt: 1\n",
      "Hallo Welt: 13\n",
      "Hallo Welt: 42\n",
      "Hallo Welt: 55\n"
     ]
    }
   ],
   "source": [
    "numbers = [1, 13, 42, 55]\n",
    "\n",
    "for number in numbers:\n",
    "    print(\"Hallo Welt: \" + str(number))"
   ]
  },
  {
   "cell_type": "code",
   "execution_count": 88,
   "metadata": {},
   "outputs": [
    {
     "name": "stdout",
     "output_type": "stream",
     "text": [
      "Hallo Welt: 1\n",
      "Hallo Welt: 13\n",
      "Hallo Welt: 42\n",
      "Hallo Welt: 55\n"
     ]
    }
   ],
   "source": [
    "xyz = [1, 13, 42, 55]\n",
    "\n",
    "for abc in xyz:\n",
    "    print(\"Hallo Welt: \" + str(abc))"
   ]
  },
  {
   "cell_type": "code",
   "execution_count": 89,
   "metadata": {},
   "outputs": [
    {
     "name": "stdout",
     "output_type": "stream",
     "text": [
      "5050\n"
     ]
    }
   ],
   "source": [
    "# Aufgabe: Summiere alle Zahlen zwischen 1 und 100 auf!\n",
    "\n",
    "#print(list((range(1,101))))\n",
    "\n",
    "s=0\n",
    "\n",
    "for i in range(1,101):\n",
    "    #s=s+i\n",
    "    s += i\n",
    "    #print(\"i = \" + str(i) + \", s = \" + str(s))\n",
    "\n",
    "print(s)"
   ]
  },
  {
   "cell_type": "code",
   "execution_count": 90,
   "metadata": {},
   "outputs": [
    {
     "name": "stdout",
     "output_type": "stream",
     "text": [
      "5050\n"
     ]
    }
   ],
   "source": [
    "print(sum(range(1,101))) # interne Funktion von Python"
   ]
  },
  {
   "cell_type": "markdown",
   "metadata": {},
   "source": [
    "### Die for-Schleife (und Strings)"
   ]
  },
  {
   "cell_type": "code",
   "execution_count": 91,
   "metadata": {},
   "outputs": [
    {
     "name": "stdout",
     "output_type": "stream",
     "text": [
      "h\n",
      "a\n",
      "l\n",
      "l\n",
      "o\n",
      " \n",
      "w\n",
      "e\n",
      "l\n",
      "t\n"
     ]
    }
   ],
   "source": [
    "text =  \"Hallo Welt\"\n",
    "\n",
    "for xyz in text.lower(): # in Kleinbuchstaben\n",
    "    print(xyz)"
   ]
  },
  {
   "cell_type": "code",
   "execution_count": 92,
   "metadata": {},
   "outputs": [
    {
     "name": "stdout",
     "output_type": "stream",
     "text": [
      "final: h., char: h\n",
      "final: h.a., char: a\n",
      "final: h.a.l., char: l\n",
      "final: h.a.l.l., char: l\n",
      "final: h.a.l.l.o., char: o\n",
      "final: h.a.l.l.o. ., char:  \n",
      "final: h.a.l.l.o. .w., char: w\n",
      "final: h.a.l.l.o. .w.e., char: e\n",
      "final: h.a.l.l.o. .w.e.l., char: l\n",
      "final: h.a.l.l.o. .w.e.l.t., char: t\n",
      "h.a.l.l.o. .w.e.l.t.\n"
     ]
    }
   ],
   "source": [
    "text = \"Hallo Welt\"\n",
    "\n",
    "final = \"\"\n",
    "\n",
    "for char in text.lower():\n",
    "    final = final + char + \".\"\n",
    "    print(\"final: \" + final + \", char: \" + char)\n",
    "\n",
    "print(final)"
   ]
  },
  {
   "cell_type": "markdown",
   "metadata": {},
   "source": [
    "### Die for-Schleife: List Comprehensioins"
   ]
  },
  {
   "cell_type": "code",
   "execution_count": 93,
   "metadata": {},
   "outputs": [
    {
     "name": "stdout",
     "output_type": "stream",
     "text": [
      "Max\n",
      "Monika\n",
      "Claudia\n"
     ]
    }
   ],
   "source": [
    "names = [\"Max\", \"Monika\", \"Claudia\"]\n",
    "\n",
    "for name in names:\n",
    "    print(name)"
   ]
  },
  {
   "cell_type": "code",
   "execution_count": 94,
   "metadata": {},
   "outputs": [
    {
     "name": "stdout",
     "output_type": "stream",
     "text": [
      "Max\n",
      "Monika\n",
      "Claudia\n"
     ]
    }
   ],
   "source": [
    "abc = [\"Max\", \"Monika\", \"Claudia\"]\n",
    "\n",
    "for xyz in abc:\n",
    "    print(xyz)"
   ]
  },
  {
   "cell_type": "code",
   "execution_count": 95,
   "metadata": {},
   "outputs": [
    {
     "name": "stdout",
     "output_type": "stream",
     "text": [
      "['Hallo Max', 'Hallo Monika', 'Hallo Claudia']\n"
     ]
    }
   ],
   "source": [
    "names = [\"Max\", \"Monika\", \"Claudia\"]\n",
    "\n",
    "greetings = [] # Am Anfang ist die Liste leer\n",
    "\n",
    "for name in names:\n",
    "    greetings.append(\"Hallo \" + name)\n",
    "    \n",
    "print(greetings)"
   ]
  },
  {
   "cell_type": "code",
   "execution_count": 96,
   "metadata": {},
   "outputs": [
    {
     "name": "stdout",
     "output_type": "stream",
     "text": [
      "['Hallo Max', 'Hallo Monika', 'Hallo Claudia']\n"
     ]
    }
   ],
   "source": [
    "names = [\"Max\", \"Monika\", \"Claudia\"]\n",
    "greetings = [\"Hallo \" + name for name in names]\n",
    "print(greetings)"
   ]
  },
  {
   "cell_type": "code",
   "execution_count": 97,
   "metadata": {},
   "outputs": [
    {
     "name": "stdout",
     "output_type": "stream",
     "text": [
      "[3, 6, 7]\n"
     ]
    }
   ],
   "source": [
    "names = [\"Max\", \"Monika\", \"Claudia\"]\n",
    "\n",
    "lengths = []\n",
    "\n",
    "for name in names:\n",
    "    lengths.append(len(name))\n",
    "    \n",
    "print(lengths)"
   ]
  },
  {
   "cell_type": "code",
   "execution_count": 98,
   "metadata": {},
   "outputs": [
    {
     "name": "stdout",
     "output_type": "stream",
     "text": [
      "[3, 6, 7]\n"
     ]
    }
   ],
   "source": [
    "names = [\"Max\", \"Monika\", \"Claudia\"]\n",
    "\n",
    "lengths = [len(name) for name in names] # python-like-Code\n",
    "\n",
    "print(lengths)"
   ]
  },
  {
   "cell_type": "code",
   "execution_count": 99,
   "metadata": {},
   "outputs": [
    {
     "name": "stdout",
     "output_type": "stream",
     "text": [
      "['Hallo Max', 'Hallo Monika']\n"
     ]
    }
   ],
   "source": [
    "# Komplexeres Beispiel: Begrüßungen generieren, für alle Teilnehmer\n",
    "# deren Name mit \"M\" anfängt\n",
    "\n",
    "names = [\"Max\", \"Monika\", \"Claudia\"]\n",
    "greetings = []\n",
    "\n",
    "for name in names:\n",
    "    if name[0] == \"M\":\n",
    "        greetings.append(\"Hallo \" + name)\n",
    "\n",
    "print(greetings)"
   ]
  },
  {
   "cell_type": "code",
   "execution_count": 100,
   "metadata": {},
   "outputs": [
    {
     "name": "stdout",
     "output_type": "stream",
     "text": [
      "['Hallo Max', 'Hallo Monika']\n"
     ]
    }
   ],
   "source": [
    "names = [\"Max\", \"Monika\", \"Claudia\"]\n",
    "\n",
    "greetings = [\"Hallo \" + name for name in names if name[0] == \"M\"] # sehr sehr python-like\n",
    "print(greetings)"
   ]
  },
  {
   "cell_type": "code",
   "execution_count": 101,
   "metadata": {},
   "outputs": [
    {
     "name": "stdout",
     "output_type": "stream",
     "text": [
      "[3, 6, 9, 12, 15, 18, 21, 24, 27, 30, 33, 36, 39, 42, 45, 48, 51, 54, 57, 60, 63, 66, 69, 72, 75, 78, 81, 84, 87, 90, 93, 96, 99]\n",
      "[3, 6, 9, 12, 15, 18, 21, 24, 27, 30, 33, 36, 39, 42, 45, 48, 51, 54, 57, 60, 63, 66, 69, 72, 75, 78, 81, 84, 87, 90, 93, 96, 99]\n"
     ]
    }
   ],
   "source": [
    "# Aufgabe: Gebe alle Zahlen zwischen 1 und 100 aus, sofern sie durch 3 teilbar sind.\n",
    "# Test: Ist die Zahl x durch 3 teilbar?\n",
    "\n",
    "# Lösung 1\n",
    "answer = []\n",
    "\n",
    "for x in range(1,101):\n",
    "    if x % 3 == 0:\n",
    "        answer.append(x)\n",
    "\n",
    "print(answer)\n",
    "\n",
    "# Lösung 2\n",
    "print([i for i in range(1,101) if i % 3 == 0])"
   ]
  },
  {
   "cell_type": "markdown",
   "metadata": {},
   "source": [
    "### Die while-Schleife"
   ]
  },
  {
   "cell_type": "code",
   "execution_count": 102,
   "metadata": {},
   "outputs": [
    {
     "name": "stdout",
     "output_type": "stream",
     "text": [
      "23\n",
      "18\n",
      "13\n",
      "8\n",
      "3\n",
      "...\n"
     ]
    }
   ],
   "source": [
    "a = 23\n",
    "while a >= 0: # solange eine Bedingung erfüllt ist... (kann endlos sein!)\n",
    "    print(a)\n",
    "    a = a - 5\n",
    "\n",
    "print(\"...\")"
   ]
  },
  {
   "cell_type": "markdown",
   "metadata": {},
   "source": [
    "### Schleifen: break & continue"
   ]
  },
  {
   "cell_type": "code",
   "execution_count": 103,
   "metadata": {},
   "outputs": [
    {
     "name": "stdout",
     "output_type": "stream",
     "text": [
      "Hallo Welt: 1\n",
      "Hallo Welt: 2\n",
      "Hallo Welt: 3\n",
      "Hallo Welt: 4\n",
      "Hallo Welt: 6\n",
      "Hallo Welt: 7\n",
      "Hallo Welt: 9\n",
      "Hallo Welt: 10\n"
     ]
    }
   ],
   "source": [
    "for i in range (1,11):\n",
    "    if i != 5 and i != 8:\n",
    "        print(\"Hallo Welt: \" + str(i))"
   ]
  },
  {
   "cell_type": "code",
   "execution_count": 104,
   "metadata": {},
   "outputs": [
    {
     "name": "stdout",
     "output_type": "stream",
     "text": [
      "--- 1\n",
      "Hallo Welt: 1\n",
      "--- 2\n",
      "Hallo Welt: 2\n",
      "--- 3\n",
      "Hallo Welt: 3\n",
      "--- 4\n",
      "Hallo Welt: 4\n",
      "--- 5\n",
      "--- 6\n",
      "Hallo Welt: 6\n",
      "--- 7\n",
      "Hallo Welt: 7\n",
      "--- 8\n",
      "--- 9\n",
      "Hallo Welt: 9\n",
      "--- 10\n",
      "Hallo Welt: 10\n"
     ]
    }
   ],
   "source": [
    "# noch übersichtlich als oben\n",
    "for i in range (1,11):\n",
    "    print(\"--- \" + str(i))\n",
    "    if i == 5:\n",
    "        continue\n",
    "    if i == 8: # elif i == 8: geht auch\n",
    "        continue\n",
    "    print(\"Hallo Welt: \" + str(i))"
   ]
  },
  {
   "cell_type": "code",
   "execution_count": 105,
   "metadata": {},
   "outputs": [
    {
     "name": "stdout",
     "output_type": "stream",
     "text": [
      "Hallo Welt: 1\n",
      "Hallo Welt: 2\n",
      "Hallo Welt: 3\n",
      "Hallo Welt: 4\n",
      "Hallo Welt: 6\n",
      "Hallo Welt: 7\n",
      "Die 8 wurde erreicht\n"
     ]
    }
   ],
   "source": [
    "for i in range (1,11):\n",
    "    if i == 5:\n",
    "        continue\n",
    "    if i == 8:\n",
    "        print (\"Die 8 wurde erreicht\")\n",
    "        break # gesamte Schleife abbrechen\n",
    "    print(\"Hallo Welt: \" + str(i))"
   ]
  },
  {
   "cell_type": "code",
   "execution_count": 106,
   "metadata": {},
   "outputs": [
    {
     "name": "stdout",
     "output_type": "stream",
     "text": [
      "1\n",
      "2\n",
      "3\n",
      "4\n",
      "5\n",
      "6\n",
      "7\n",
      "8\n",
      "9\n",
      "10\n",
      "11\n",
      "12\n",
      "13\n",
      "14\n",
      "15\n",
      "16\n",
      "17\n",
      "18\n",
      "19\n",
      "20\n",
      "21\n"
     ]
    }
   ],
   "source": [
    "i = 0\n",
    "while True:\n",
    "    i = i + 1\n",
    "    print(i)\n",
    "    if i> 20:\n",
    "        break"
   ]
  },
  {
   "cell_type": "code",
   "execution_count": 107,
   "metadata": {},
   "outputs": [
    {
     "name": "stdout",
     "output_type": "stream",
     "text": [
      "1\n",
      "2\n",
      "3\n",
      "4\n",
      "5\n",
      "6\n",
      "7\n",
      "8\n",
      "9\n",
      "10\n",
      "11\n",
      "12\n",
      "13\n",
      "14\n",
      "15\n",
      "16\n",
      "17\n",
      "18\n",
      "19\n",
      "20\n",
      "21\n"
     ]
    }
   ],
   "source": [
    "# bessere code\n",
    "i = 0\n",
    "while i <= 20:\n",
    "    i = i + 1\n",
    "    print(i)"
   ]
  },
  {
   "cell_type": "markdown",
   "metadata": {},
   "source": [
    "### Aufgabe 1: Kompakte Schreibweise\n",
    "Ein Stärke von Python ist die kompakte Schreibweise von Umwandlungen von Daten, zum Beispiel von Listen mit Messdaten.\n",
    "\n",
    "#### Längen umrechnen\n",
    "Die Liste `imperial` enthält Messergebnisse einer Längenmessung, die in den USA vorgenommen wurde. Daher liegen die Daten im imperialen System vor - in Inch. Es gilt 1 in = 2,54 cm:"
   ]
  },
  {
   "cell_type": "code",
   "execution_count": 108,
   "metadata": {},
   "outputs": [],
   "source": [
    "imperial = [24.3, 25.2, 17.8, 15.4, 21.2, 22.5, 19.7, 18.9]"
   ]
  },
  {
   "cell_type": "markdown",
   "metadata": {},
   "source": [
    "Hier Programmcode mit einer Schleife, der die Liste in cm-Angaben umwandelt:"
   ]
  },
  {
   "cell_type": "code",
   "execution_count": 109,
   "metadata": {},
   "outputs": [
    {
     "name": "stdout",
     "output_type": "stream",
     "text": [
      "[61.722, 64.008, 45.212, 39.116, 53.848, 57.15, 50.038, 48.006]\n"
     ]
    }
   ],
   "source": [
    "metric = []\n",
    "for i in imperial:\n",
    "    metric.append(i*2.54)\n",
    "print(metric)"
   ]
  },
  {
   "cell_type": "markdown",
   "metadata": {},
   "source": [
    "***Schreibe diese Umwandlung nun in der kompakten Schreibweise:***"
   ]
  },
  {
   "cell_type": "code",
   "execution_count": 110,
   "metadata": {},
   "outputs": [
    {
     "name": "stdout",
     "output_type": "stream",
     "text": [
      "[61.722, 64.008, 45.212, 39.116, 53.848, 57.15, 50.038, 48.006]\n"
     ]
    }
   ],
   "source": [
    "# in eine List-Comprehension umwandeln\n",
    "metric = [(i*2.54) for i in imperial]\n",
    "print(metric)"
   ]
  },
  {
   "cell_type": "markdown",
   "metadata": {},
   "source": [
    "### Aufgabe 2: Liste in umgekehrter Reihenfolge ausgeben"
   ]
  },
  {
   "cell_type": "code",
   "execution_count": 111,
   "metadata": {},
   "outputs": [],
   "source": [
    "items = [\"Äpfel\", \"Biernen\", \"Gurken\", \"Kiwis\", \"Pflaumen\", \"Tomaten\"]"
   ]
  },
  {
   "cell_type": "markdown",
   "metadata": {},
   "source": [
    "Erstelle die Liste `ritems` so, dass sie die Elemente von `items` in umgekehrter Reihenfolge enthält.\n",
    "\n",
    "***Gewünschte Ausgabe:***\n",
    "`['Tomaten', 'Pflaumen', 'Kiwis', 'Gurken', 'Birnen', 'Äpfel']`"
   ]
  },
  {
   "cell_type": "code",
   "execution_count": 112,
   "metadata": {},
   "outputs": [
    {
     "name": "stdout",
     "output_type": "stream",
     "text": [
      "['Tomaten', 'Pflaumen', 'Kiwis', 'Gurken', 'Biernen', 'Äpfel']\n"
     ]
    }
   ],
   "source": [
    "ritems = []\n",
    "\n",
    "for item in items:\n",
    "    ritems.insert(0,item)\n",
    "\n",
    "print(ritems)"
   ]
  },
  {
   "cell_type": "code",
   "execution_count": 113,
   "metadata": {},
   "outputs": [
    {
     "name": "stdout",
     "output_type": "stream",
     "text": [
      "litems = 6\n",
      "['Tomaten', 'Pflaumen', 'Kiwis', 'Gurken', 'Biernen', 'Äpfel']\n"
     ]
    }
   ],
   "source": [
    "litems = len(items)\n",
    "print(\"litems = \" + str(litems))\n",
    "\n",
    "ritems = []\n",
    "\n",
    "for i in range(0,litems):\n",
    "    ritems.append(items[litems - i - 1])\n",
    "\n",
    "print(ritems)"
   ]
  },
  {
   "cell_type": "code",
   "execution_count": 114,
   "metadata": {},
   "outputs": [
    {
     "name": "stdout",
     "output_type": "stream",
     "text": [
      "[5, 4, 3, 2, 1, 0]\n",
      "['Tomaten', 'Pflaumen', 'Kiwis', 'Gurken', 'Biernen', 'Äpfel']\n"
     ]
    }
   ],
   "source": [
    "#list(range(10,1,-1)) # Schrittweite -1\n",
    "ritems = []\n",
    "\n",
    "litems = len(items)\n",
    "print(list(range(litems -1, -1, -1)))\n",
    "\n",
    "for i in range(litems-1,-1,-1):\n",
    "    ritems.append(items[i])\n",
    "print(ritems)"
   ]
  },
  {
   "cell_type": "code",
   "execution_count": 115,
   "metadata": {},
   "outputs": [
    {
     "name": "stdout",
     "output_type": "stream",
     "text": [
      "['Tomaten', 'Pflaumen', 'Kiwis', 'Gurken', 'Biernen', 'Äpfel']\n"
     ]
    }
   ],
   "source": [
    "ritems = items[:] # eine Kopie von items machen und als ritems speichern\n",
    "ritems.reverse() # diese Funktion verändert die Liste für immer\n",
    "print(ritems)"
   ]
  },
  {
   "cell_type": "markdown",
   "metadata": {},
   "source": [
    "### Aufgabe 3: Reproduktionszahl R"
   ]
  },
  {
   "cell_type": "code",
   "execution_count": 116,
   "metadata": {},
   "outputs": [],
   "source": [
    "new_cases = [40, 42, 46, 42, 40, 38, 36, 30, 32, 34, 36, 35, 34, 33, 32, 16, 23, 24, 25, 16, 4, 5, 6, 3, 2, 2]"
   ]
  },
  {
   "cell_type": "markdown",
   "metadata": {},
   "source": [
    "Die Liste `new_cases` enthält die täglich ermittelte Zahl von Neuansteckungen einer Krankheit. Ermittelt werden soll auf zwei Nachkommastellen genau für jeden Tag der Wert `r`, der sich aus der Division der Neuinfektionen des Tages durch die Zahl der Infektionen am Vortrag ergibt.\n",
    "\n",
    "***Der Wert `r` für alle Tage soll ausgegeben werden.***"
   ]
  },
  {
   "cell_type": "code",
   "execution_count": 122,
   "metadata": {},
   "outputs": [
    {
     "name": "stdout",
     "output_type": "stream",
     "text": [
      "1.05\n"
     ]
    }
   ],
   "source": [
    "print(new_cases[1]/new_cases[0])"
   ]
  },
  {
   "cell_type": "code",
   "execution_count": 126,
   "metadata": {},
   "outputs": [
    {
     "name": "stdout",
     "output_type": "stream",
     "text": [
      "26\n",
      "['-', 1.05, 1.1, 0.91, 0.95, 0.95, 0.95, 0.83, 1.07, 1.06, 1.06, 0.97, 0.97, 0.97, 0.97, 0.5, 1.44, 1.04, 1.04, 0.64, 0.25, 1.25, 1.2, 0.5, 0.67, 1.0]\n"
     ]
    }
   ],
   "source": [
    "lnew_cases = len(new_cases)\n",
    "print(lnew_cases)\n",
    "\n",
    "reproduktionszahlen = []\n",
    "for i in range(0, lnew_cases):\n",
    "    if i == 0:\n",
    "        reproduktionszahlen.append('-')\n",
    "    if i > 0:\n",
    "        r = round (new_cases[i] / new_cases[i-1], 2)\n",
    "        reproduktionszahlen.append(r)\n",
    "\n",
    "print(reproduktionszahlen)"
   ]
  },
  {
   "cell_type": "code",
   "execution_count": 127,
   "metadata": {},
   "outputs": [
    {
     "name": "stdout",
     "output_type": "stream",
     "text": [
      "['-', 1.05, 1.1, 0.91, 0.95, 0.95, 0.95, 0.83, 1.07, 1.06, 1.06, 0.97, 0.97, 0.97, 0.97, 0.5, 1.44, 1.04, 1.04, 0.64, 0.25, 1.25, 1.2, 0.5, 0.67, 1.0]\n"
     ]
    }
   ],
   "source": [
    "r = ['-']\n",
    "for i in range(1, len(new_cases)):\n",
    "    r.append(round(new_cases[i] / new_cases[i-1], 2))\n",
    "\n",
    "print(r)"
   ]
  },
  {
   "cell_type": "markdown",
   "metadata": {},
   "source": [
    "***Gewünschte Ausgabe:***\n",
    "`['-', 1.05, 1.1, 0.91, 0.95, 0.95, 0.83, 1.07, 1.06, 0.97, 0.97, 0.97, 0.97, 0.5, 1.44, 0.7, 1.44, 1.04, 1.04, 0.64, 0.25, 1.25, 1.2, 0.5, 0.67, 1.0]`"
   ]
  },
  {
   "cell_type": "markdown",
   "metadata": {},
   "source": []
  },
  {
   "cell_type": "markdown",
   "metadata": {},
   "source": [
    "### Aufgabe 4: Temperatur umrechnen"
   ]
  },
  {
   "cell_type": "code",
   "execution_count": null,
   "metadata": {},
   "outputs": [],
   "source": [
    "temperatures = [20.4, 21.2, 21.4, 23.7, 18.9, 15.4, 15.0, 28.8, 29.6, 29.8, 33.4, 33.8, 32.9, 29.0, 22.0]"
   ]
  },
  {
   "cell_type": "markdown",
   "metadata": {},
   "source": [
    "Die Liste `temperatures` enthält die Messung von Tageshöchsttemperaturen in Grad Celsius. Die Liste soll nun auf eine Nachkommastelle genau in Grad Fahrenheit umgewandelt und ausgegeben werden.\n",
    "\n",
    "Von Celsius in Fahrenheit wird umgerechnet, in dem die Temperatur in Celsius mit 1,8 multipliziert und dann 32 addiert wird. 10 Grad Celsius sind daher 50 Grad Fahrenheit."
   ]
  },
  {
   "cell_type": "code",
   "execution_count": 130,
   "metadata": {},
   "outputs": [
    {
     "name": "stdout",
     "output_type": "stream",
     "text": [
      "[68.7, 70.2, 70.5, 74.7, 66.0, 59.7, 59.0, 83.8, 85.3, 85.6, 92.1, 92.8, 91.2, 84.2, 71.6]\n"
     ]
    }
   ],
   "source": [
    "fahrenheit = []\n",
    "\n",
    "for temperature in temperatures:\n",
    "    fahrenheit.append(round(temperature * 1.8 + 32, 1))\n",
    "\n",
    "print(fahrenheit)"
   ]
  },
  {
   "cell_type": "code",
   "execution_count": 131,
   "metadata": {},
   "outputs": [
    {
     "name": "stdout",
     "output_type": "stream",
     "text": [
      "[68.7, 70.2, 70.5, 74.7, 66.0, 59.7, 59.0, 83.8, 85.3, 85.6, 92.1, 92.8, 91.2, 84.2, 71.6]\n"
     ]
    }
   ],
   "source": [
    "# list comprehension\n",
    "fahrenheit = [round(temperature * 1.8 + 32, 1) for temperature in temperatures]\n",
    "print(fahrenheit)"
   ]
  },
  {
   "cell_type": "markdown",
   "metadata": {},
   "source": [
    "### Aufgabe 5 (schwer, optional):\n",
    "#### Berechne Primzahlen bis 100\n",
    "Primzahlen sind Zahlen, die ohne Rest nur durch 1 und sich selbst geteilt werden können!\n",
    "***Hinweis:*** Google ggf. nach dem \"Sieb des Erastrothenes\" oder schaue in Wikipedia nach."
   ]
  },
  {
   "cell_type": "code",
   "execution_count": 145,
   "metadata": {},
   "outputs": [
    {
     "name": "stdout",
     "output_type": "stream",
     "text": [
      "[1, 2, 3, 5, 7, 11, 13, 17, 19, 23, 29, 31, 37, 41, 43, 47, 53, 59, 61, 67, 71, 73, 79, 83, 89, 97]\n"
     ]
    }
   ],
   "source": [
    "primes = list(range(1,101))\n",
    "\n",
    "for number in range (2, 100):\n",
    "    i = 2\n",
    "    while i * number <= 100:\n",
    "        if i * number in primes:\n",
    "            primes.remove(i * number)\n",
    "        i = i + 1 \n",
    "\n",
    "print(primes)"
   ]
  },
  {
   "cell_type": "code",
   "execution_count": null,
   "metadata": {},
   "outputs": [],
   "source": []
  }
 ],
 "metadata": {
  "kernelspec": {
   "display_name": "Python 3",
   "language": "python",
   "name": "python3"
  },
  "language_info": {
   "codemirror_mode": {
    "name": "ipython",
    "version": 3
   },
   "file_extension": ".py",
   "mimetype": "text/x-python",
   "name": "python",
   "nbconvert_exporter": "python",
   "pygments_lexer": "ipython3",
   "version": "3.12.0"
  }
 },
 "nbformat": 4,
 "nbformat_minor": 2
}
