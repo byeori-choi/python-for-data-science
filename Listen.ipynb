{
 "cells": [
  {
   "cell_type": "markdown",
   "metadata": {},
   "source": [
    "## Aufgabe 1: Listen bearbeiten\n",
    "\n",
    "Gegeben ist die Liste `elements`. Diese wird nachfolgend bearbeitet. Jede Teilaufgabe beruht auf dem Ergebnis für `elements` der vorherigen. `elements` ist nach jeer Teilaufgabe mit einem `print` auszugeben.\n",
    "\n",
    "**Hinweis:** Die Variable elements wird nach jeder Ausführung einer Zeile verändert. Die Änderungen bleiben erhalten, bis die Variable elements neu initialisiert wurde, also die nächste Zelle nochmal neu ausgeführt wurde!"
   ]
  },
  {
   "cell_type": "code",
   "execution_count": 1,
   "metadata": {},
   "outputs": [],
   "source": [
    "elements = [3, 9, 16, 25, 36, 49, 81]"
   ]
  },
  {
   "cell_type": "markdown",
   "metadata": {},
   "source": [
    "### a) Hänge `100` ans Ende diesser Liste.\n",
    "***Gewünschte Ausgabe:***\n",
    "`[3, 9, 16, 25, 36, 49, 81, 100]`"
   ]
  },
  {
   "cell_type": "code",
   "execution_count": 2,
   "metadata": {},
   "outputs": [
    {
     "name": "stdout",
     "output_type": "stream",
     "text": [
      "[3, 9, 16, 25, 36, 49, 81, 100]\n"
     ]
    }
   ],
   "source": [
    "elements.append(100)\n",
    "print(elements)"
   ]
  },
  {
   "cell_type": "markdown",
   "metadata": {},
   "source": [
    "### Füge `1` am Anfang dieser Liste ein.\n",
    "***Gewünschte Ausgabe:***\n",
    "`[1, 3, 9, 16, 25, 36, 49, 81, 100]`"
   ]
  },
  {
   "cell_type": "code",
   "execution_count": 3,
   "metadata": {},
   "outputs": [
    {
     "name": "stdout",
     "output_type": "stream",
     "text": [
      "[1, 3, 9, 16, 25, 36, 49, 81, 100]\n"
     ]
    }
   ],
   "source": [
    "elements.insert(0,1)\n",
    "print(elements)"
   ]
  },
  {
   "cell_type": "markdown",
   "metadata": {},
   "source": [
    "### c) Füge `64`nach `49`ein.\n",
    "***Gewünschte Ausgabe:*** `[1, 3, 9, 16, 25, 36, 49, 64, 81, 100]`"
   ]
  },
  {
   "cell_type": "code",
   "execution_count": 4,
   "metadata": {},
   "outputs": [
    {
     "name": "stdout",
     "output_type": "stream",
     "text": [
      "[1, 3, 9, 16, 25, 36, 49, 81, 100]\n",
      "[1, 3, 9, 16, 25, 36, 49, 64, 81, 100]\n"
     ]
    }
   ],
   "source": [
    "print(elements)\n",
    "pos = elements.index(49)\n",
    "elements.insert(pos+1,64)\n",
    "print(elements)"
   ]
  },
  {
   "cell_type": "markdown",
   "metadata": {},
   "source": [
    "### d) Ermittel die Länge der Liste und speichere die Hälfte in elements1 und elements2.\n",
    "***Gewünschte Ausgabe:***\n",
    "`[1, 3, 9, 16, 25]`\n",
    "`[36, 49, 64, 81, 100]`"
   ]
  },
  {
   "cell_type": "code",
   "execution_count": 6,
   "metadata": {},
   "outputs": [
    {
     "name": "stdout",
     "output_type": "stream",
     "text": [
      "[1, 3, 9, 16, 25]\n",
      "[36, 49, 64, 81, 100]\n"
     ]
    }
   ],
   "source": [
    "l = len(elements)/2\n",
    "elements1 = elements[:int(l)]\n",
    "elements2 = elements[int(l):]\n",
    "print(elements1)\n",
    "print(elements2)"
   ]
  },
  {
   "cell_type": "markdown",
   "metadata": {},
   "source": []
  }
 ],
 "metadata": {
  "kernelspec": {
   "display_name": "Python 3",
   "language": "python",
   "name": "python3"
  },
  "language_info": {
   "codemirror_mode": {
    "name": "ipython",
    "version": 3
   },
   "file_extension": ".py",
   "mimetype": "text/x-python",
   "name": "python",
   "nbconvert_exporter": "python",
   "pygments_lexer": "ipython3",
   "version": "3.12.0"
  }
 },
 "nbformat": 4,
 "nbformat_minor": 2
}
