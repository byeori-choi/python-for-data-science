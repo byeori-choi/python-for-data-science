{
 "cells": [
  {
   "cell_type": "code",
   "execution_count": 380,
   "metadata": {},
   "outputs": [],
   "source": [
    "# was tun wir, wenn wir mehrere Elementen verwalten möchten? -> Listen\n",
    "# was tun wir, wenn wir irgendeine Zuordnung verwalten möchten? -> Dictionaries\n",
    "\n",
    "# Beispiel: Wörterbuch\n",
    "river = \"Fluss\"\n",
    "city = \"Stadt\""
   ]
  },
  {
   "cell_type": "code",
   "execution_count": 381,
   "metadata": {},
   "outputs": [
    {
     "name": "stdout",
     "output_type": "stream",
     "text": [
      "Fluss\n",
      "Stadt\n",
      "{'river': 'Fluss', 'city': 'Stadt'}\n"
     ]
    }
   ],
   "source": [
    "words = {} # ein leeres Dictionary\n",
    "\n",
    "# river und city sind Schlüssel, und Fluss und Stadt sind Werte\n",
    "words = {\n",
    "    \"river\": \"Fluss\", \n",
    "    \"city\": \"Stadt\"\n",
    "    } \n",
    "\n",
    "# beim Dictionary können nur Schlüssel in [] geschrieben werden\n",
    "print(words[\"river\"])\n",
    "print(words[\"city\"])\n",
    "print(words)"
   ]
  },
  {
   "cell_type": "code",
   "execution_count": 382,
   "metadata": {},
   "outputs": [
    {
     "name": "stdout",
     "output_type": "stream",
     "text": [
      "{'river': 'Fluss', 'city': 'Stadt', 'country': 'Land'}\n"
     ]
    }
   ],
   "source": [
    "# ein Dictionary kann ergänzt werden\n",
    "words[\"country\"] = \"Land\"\n",
    "print(words)"
   ]
  },
  {
   "cell_type": "code",
   "execution_count": 383,
   "metadata": {},
   "outputs": [
    {
     "name": "stdout",
     "output_type": "stream",
     "text": [
      "3\n"
     ]
    }
   ],
   "source": [
    "print(len(words))\n",
    "# \"'river': 'Fluss'\" ist ein Element"
   ]
  },
  {
   "cell_type": "code",
   "execution_count": 384,
   "metadata": {},
   "outputs": [
    {
     "name": "stdout",
     "output_type": "stream",
     "text": [
      "Fluss\n"
     ]
    }
   ],
   "source": [
    "print(words['river'])"
   ]
  },
  {
   "cell_type": "code",
   "execution_count": 385,
   "metadata": {},
   "outputs": [
    {
     "name": "stdout",
     "output_type": "stream",
     "text": [
      "Stadt\n"
     ]
    }
   ],
   "source": [
    "w = \"city\"\n",
    "\n",
    "print(words[w]) # in eckigen Klammern kann man auch Variable hineinpacken"
   ]
  },
  {
   "cell_type": "code",
   "execution_count": 386,
   "metadata": {},
   "outputs": [
    {
     "data": {
      "text/plain": [
       "['river', 'city', 'country']"
      ]
     },
     "execution_count": 386,
     "metadata": {},
     "output_type": "execute_result"
    }
   ],
   "source": [
    "# Schlüssel in eine Liste umgewandelt, und die Werte komplett verloren. -> nicht gute Möglichkeit\n",
    "list(words)"
   ]
  },
  {
   "cell_type": "code",
   "execution_count": 387,
   "metadata": {},
   "outputs": [
    {
     "name": "stdout",
     "output_type": "stream",
     "text": [
      "key: river, value: Fluss\n",
      "key: city, value: Stadt\n",
      "key: country, value: Land\n"
     ]
    }
   ],
   "source": [
    "# so ist die Ausgabe besser: Schlüssel und Werte beides ausgeben\n",
    "for key, value in words.items():\n",
    "    print(\"key: \" + key + \", value: \" + value)"
   ]
  },
  {
   "cell_type": "code",
   "execution_count": 388,
   "metadata": {},
   "outputs": [
    {
     "name": "stdout",
     "output_type": "stream",
     "text": [
      "('river', 'Fluss')\n",
      "('city', 'Stadt')\n",
      "('country', 'Land')\n"
     ]
    }
   ],
   "source": [
    "for x in words.items(): # x ist hier dann einzelne Tupel\n",
    "    print(x)"
   ]
  },
  {
   "cell_type": "code",
   "execution_count": 389,
   "metadata": {},
   "outputs": [
    {
     "name": "stdout",
     "output_type": "stream",
     "text": [
      "dict_items([('river', 'Fluss'), ('city', 'Stadt'), ('country', 'Land')])\n",
      "[('river', 'Fluss'), ('city', 'Stadt'), ('country', 'Land')]\n"
     ]
    }
   ],
   "source": [
    "# was ist words.items?\n",
    "print(words.items())\n",
    "print(list(words.items())) # die Liste enthält drei Tupel (mit \"()\")"
   ]
  },
  {
   "cell_type": "code",
   "execution_count": 390,
   "metadata": {},
   "outputs": [
    {
     "name": "stdout",
     "output_type": "stream",
     "text": [
      "('river', 'Fluss')\n",
      "Fluss\n"
     ]
    }
   ],
   "source": [
    "words_list = list(words.items())\n",
    "print(words_list[0])\n",
    "print(words_list[0][1])"
   ]
  },
  {
   "cell_type": "code",
   "execution_count": 391,
   "metadata": {},
   "outputs": [
    {
     "name": "stdout",
     "output_type": "stream",
     "text": [
      "x1 = river, x2 = Fluss\n"
     ]
    }
   ],
   "source": [
    "key, value = words_list[0]\n",
    "x1, x2 = words_list[0]\n",
    "\n",
    "print(\"x1 = \" + x1 + \", x2 = \" + x2)"
   ]
  },
  {
   "cell_type": "code",
   "execution_count": 392,
   "metadata": {},
   "outputs": [
    {
     "name": "stdout",
     "output_type": "stream",
     "text": [
      "dict_keys(['river', 'city', 'country'])\n",
      "['river', 'city', 'country']\n"
     ]
    }
   ],
   "source": [
    "print(words.keys())\n",
    "print(list(words.keys()))"
   ]
  },
  {
   "cell_type": "code",
   "execution_count": 393,
   "metadata": {},
   "outputs": [
    {
     "name": "stdout",
     "output_type": "stream",
     "text": [
      "dict_values(['Fluss', 'Stadt', 'Land'])\n",
      "['Fluss', 'Stadt', 'Land']\n"
     ]
    }
   ],
   "source": [
    "print(words.values())\n",
    "print(list(words.values()))"
   ]
  },
  {
   "cell_type": "code",
   "execution_count": 394,
   "metadata": {},
   "outputs": [
    {
     "name": "stdout",
     "output_type": "stream",
     "text": [
      "True\n",
      "True\n",
      "False\n"
     ]
    }
   ],
   "source": [
    "print(\"city\" in words)\n",
    "print(\"country\" in words)\n",
    "print(\"animal\" in words)\n",
    "# True wenn im Dictionary drin, False wenn nicht"
   ]
  },
  {
   "cell_type": "code",
   "execution_count": 395,
   "metadata": {},
   "outputs": [
    {
     "name": "stdout",
     "output_type": "stream",
     "text": [
      "True\n"
     ]
    }
   ],
   "source": [
    "z = \"city\"\n",
    "print(z in words)"
   ]
  },
  {
   "cell_type": "code",
   "execution_count": 396,
   "metadata": {},
   "outputs": [
    {
     "name": "stdout",
     "output_type": "stream",
     "text": [
      "{'river': 'Fluss', 'city': 'Stadt', 'country': 'Land', 'mobile phone': 'Handy'}\n"
     ]
    }
   ],
   "source": [
    "if not \"mobile phone\" in words: # wenn not True = False\n",
    "    words[\"mobile phone\"] = \"Handy\"\n",
    "\n",
    "print(words)"
   ]
  },
  {
   "cell_type": "code",
   "execution_count": 397,
   "metadata": {},
   "outputs": [
    {
     "name": "stdout",
     "output_type": "stream",
     "text": [
      "{'river': 'Fluss', 'city': 'Stadt', 'country': 'Land', 'mobile phone': 'Handy', 'xyz': ['Test', 'Hallo Welt']}\n"
     ]
    }
   ],
   "source": [
    "# ein Schlüssel in einem Dictionary kann mehrere Werte enthalten\n",
    "words[\"xyz\"] = [\"Test\", \"Hallo Welt\"]\n",
    "print(words)"
   ]
  },
  {
   "cell_type": "code",
   "execution_count": 398,
   "metadata": {},
   "outputs": [
    {
     "name": "stdout",
     "output_type": "stream",
     "text": [
      "{'river': 'Fluss', 'city': 'Stadt', 'country': 'Land', 'mobile phone': 'Handy', 'xyz': ['Test', 'Hallo Welt'], 15: '...', '15': '---'}\n"
     ]
    }
   ],
   "source": [
    "words[15] = \"...\" # zahl(int) 15\n",
    "words[\"15\"] = \"---\" # string 15\n",
    "print(words)"
   ]
  },
  {
   "cell_type": "code",
   "execution_count": 399,
   "metadata": {},
   "outputs": [
    {
     "name": "stdout",
     "output_type": "stream",
     "text": [
      "{'river': 'Fluss', 'city': 'Stadt', 'country': 'Land', 'mobile phone': 'Handy'}\n"
     ]
    }
   ],
   "source": [
    "if 15 in words:\n",
    "    del words[15]\n",
    "if \"15\" in words:\n",
    "    del words[\"15\"]\n",
    "if \"xyz\" in words:\n",
    "    del words[\"xyz\"]\n",
    "\n",
    "print(words)"
   ]
  },
  {
   "cell_type": "markdown",
   "metadata": {},
   "source": [
    "Einheitliches Dictionary ist angenehmer.  \n",
    "\n",
    "Z.B. alle Schlüssel sind string und alle Werte sind string  \n",
    "     alle Schlüssel sind string und alle Werte sind float"
   ]
  },
  {
   "cell_type": "markdown",
   "metadata": {},
   "source": [
    "### Fragen\n",
    "\n",
    "How to add multiple values to a dictionary key?\n",
    "\n",
    "using `setdefault` ?"
   ]
  },
  {
   "cell_type": "markdown",
   "metadata": {},
   "source": [
    "### Quiz\n"
   ]
  },
  {
   "cell_type": "code",
   "execution_count": 400,
   "metadata": {},
   "outputs": [
    {
     "name": "stdout",
     "output_type": "stream",
     "text": [
      "Fluss\n",
      "Stadt\n",
      "Land\n",
      "('river', 'Fluss')\n",
      "('city', 'Stadt')\n",
      "('country', 'Land')\n",
      "('river', 'Fluss')\n",
      "('city', 'Stadt')\n",
      "('country', 'Land')\n"
     ]
    }
   ],
   "source": [
    "words = {\n",
    "    \"river\": \"Fluss\",\n",
    "    \"city\": \"Stadt\",\n",
    "    \"country\": \"Land\"\n",
    "}\n",
    "\n",
    "for key, value in words.items():\n",
    "    print(value)\n",
    "\n",
    "for value in words.items():\n",
    "    print(value)\n",
    "\n",
    "for key in words.items():\n",
    "    print(key)"
   ]
  },
  {
   "cell_type": "code",
   "execution_count": 401,
   "metadata": {},
   "outputs": [
    {
     "name": "stdout",
     "output_type": "stream",
     "text": [
      "words\n",
      "{'river': 'Fluss', 'city': 'Stadt', 'country': 'Land'}\n"
     ]
    }
   ],
   "source": [
    "words = {\n",
    "    \"river\": \"Fluss\",\n",
    "    \"city\": \"Stadt\",\n",
    "    \"country\": \"Land\"\n",
    "}\n",
    "\n",
    "w = \"words\"\n",
    "print(w)\n",
    "\n",
    "w = words\n",
    "print(w)"
   ]
  },
  {
   "cell_type": "markdown",
   "metadata": {},
   "source": [
    "### Aufgabe: Morse-Alphabet\n",
    "\n",
    "Gegeben ist das nachfolgende Dictionary. Es enthält das sogenannten Morsealphabet. Wenn Dir das nichts sagt, dann lies bitte den WIkipedia-Artikel dazu nach."
   ]
  },
  {
   "cell_type": "code",
   "execution_count": 402,
   "metadata": {},
   "outputs": [],
   "source": [
    "morse = {\n",
    "    'A':'.-', 'B':'-...', 'C':'-.-.', 'D':'-..', 'E':'.', 'F':'..-.', 'G':'--.', \n",
    "    'H':'....', 'I':'..', 'J':'.---', 'K':'-.-', 'L':'.-..', 'M':'--', 'N':'-.', \n",
    "    'O':'---', 'P':'.--.', 'Q':'--.-', 'R':'.-.', 'S':'...', 'T':'-', 'U':'..-', \n",
    "    'V':'...-', 'W':'.--', 'X':'-..-', 'Y':'-.--', 'Z':'--..',\n",
    "    '1':'.----', '2':'..---', '3':'...--', '4':'....-', '5':'.....', \n",
    "    '6':'-....', '7':'--...', '8':'---..', '9':'----.', '0':'-----', \n",
    "    ',':'--..--', '.':'.-.-.-', '?':'..--..', ' ':' ',\n",
    "    'ä':'.-.-', 'ö':'---.', 'ü':'..--', 'ß':'...--..'\n",
    "}"
   ]
  },
  {
   "cell_type": "markdown",
   "metadata": {},
   "source": [
    "Schreibe ein Programm, dass die nachfolgende Variable `text` in Morsealphabet ausgibt. Vergiss nicht die zu morsenden Buchstaben mit einem Leerzeichen zu trennen.\n",
    "\n",
    "***Hinweis:*** Hilfreich könnte die Funktionen `lower()` oder `upper()` sein. Sie wandelt mit `s.lower()` oder `s.upper()` einen String so um, dass er nur noch Klein- oder Großbuchstaben enthält."
   ]
  },
  {
   "cell_type": "code",
   "execution_count": 403,
   "metadata": {},
   "outputs": [],
   "source": [
    "text = \"Jeder wackere Bayer vertilgt bequem zwo Pfund Kalbshaxen.\""
   ]
  },
  {
   "cell_type": "code",
   "execution_count": 404,
   "metadata": {},
   "outputs": [
    {
     "name": "stdout",
     "output_type": "stream",
     "text": [
      ".---\n",
      ".-.-.-\n",
      "-..\n",
      ".-.-.-\n",
      ".-.\n",
      " \n",
      ".--\n",
      ".-\n",
      "-.-.\n",
      "-.-\n",
      ".-.-.-\n",
      ".-.\n",
      ".-.-.-\n",
      " \n",
      "-...\n",
      ".-\n",
      "-.--\n",
      ".-.-.-\n",
      ".-.\n",
      " \n",
      "...-\n",
      ".-.-.-\n",
      ".-.\n",
      "-\n",
      "..\n",
      ".-..\n",
      "--.\n",
      "-\n",
      " \n",
      "-...\n",
      ".-.-.-\n",
      "--.-\n",
      "..-\n",
      ".-.-.-\n",
      "--\n",
      " \n",
      "--..\n",
      ".--\n",
      "---\n",
      " \n",
      ".--.\n",
      "..-.\n",
      "..-\n",
      "-.\n",
      "-..\n",
      " \n",
      "-.-\n",
      ".-\n",
      ".-..\n",
      "-...\n",
      "...\n",
      "....\n",
      ".-\n",
      "-..-\n",
      ".-.-.-\n",
      "-.\n",
      ".-.-.-\n"
     ]
    }
   ],
   "source": [
    "text = text.upper()\n",
    "text_to_list = list(text)\n",
    "#print(text_to_list)\n",
    "morse_translate = list(morse.items())\n",
    "#print(morse_translate)\n",
    "\n",
    "for i in range(0, len(text_to_list)):\n",
    "    for m_t in range(0,len(morse_translate)):\n",
    "        if text_to_list[i] == morse_translate[m_t][0]:\n",
    "            text_to_list[i] = morse_translate[m_t][1]\n",
    "            continue\n",
    "\n",
    "#print(text_to_list)\n",
    "\n",
    "for i in range(0, len(text_to_list)):\n",
    "    print(text_to_list[i])\n"
   ]
  },
  {
   "cell_type": "code",
   "execution_count": 405,
   "metadata": {},
   "outputs": [
    {
     "name": "stdout",
     "output_type": "stream",
     "text": [
      "['.---', '.', '-..', '.', '.-.', ' ', '.--', '.-', '-.-.', '-.-', '.', '.-.', '.', ' ', '-...', '.-', '-.--', '.', '.-.', ' ', '...-', '.', '.-.', '-', '..', '.-..', '--.', '-', ' ', '-...', '.', '--.-', '..-', '.', '--', ' ', '--..', '.--', '---', ' ', '.--.', '..-.', '..-', '-.', '-..', ' ', '-.-', '.-', '.-..', '-...', '...', '....', '.-', '-..-', '.', '-.', '.-.-.-']\n",
      ".---\n",
      ".\n",
      "-..\n",
      ".\n",
      ".-.\n",
      " \n",
      ".--\n",
      ".-\n",
      "-.-.\n",
      "-.-\n",
      ".\n",
      ".-.\n",
      ".\n",
      " \n",
      "-...\n",
      ".-\n",
      "-.--\n",
      ".\n",
      ".-.\n",
      " \n",
      "...-\n",
      ".\n",
      ".-.\n",
      "-\n",
      "..\n",
      ".-..\n",
      "--.\n",
      "-\n",
      " \n",
      "-...\n",
      ".\n",
      "--.-\n",
      "..-\n",
      ".\n",
      "--\n",
      " \n",
      "--..\n",
      ".--\n",
      "---\n",
      " \n",
      ".--.\n",
      "..-.\n",
      "..-\n",
      "-.\n",
      "-..\n",
      " \n",
      "-.-\n",
      ".-\n",
      ".-..\n",
      "-...\n",
      "...\n",
      "....\n",
      ".-\n",
      "-..-\n",
      ".\n",
      "-.\n",
      ".-.-.-\n"
     ]
    }
   ],
   "source": [
    "ausgabe = []\n",
    "text1 = text.upper()\n",
    "#print(text1)\n",
    "#print(len(text1))\n",
    "list(text1)\n",
    "alphabets = list(morse.keys())\n",
    "morsealphabets = list(morse.values())\n",
    "\n",
    "for x in range(0, len(text1)):\n",
    "    for n in range(0,len(alphabets)):\n",
    "        if text1[x] == alphabets[n]:\n",
    "            #print(text1[x] + alphabets[n])\n",
    "            ausgabe.append(morsealphabets[n])\n",
    "            continue\n",
    "print(ausgabe)\n",
    "\n",
    "for t in range(0, len(ausgabe)):\n",
    "    print(ausgabe[t])"
   ]
  },
  {
   "cell_type": "code",
   "execution_count": 406,
   "metadata": {},
   "outputs": [
    {
     "name": "stdout",
     "output_type": "stream",
     "text": [
      ".--- . -.. . .-.   .-- .- -.-. -.- . .-. .   -... .- -.-- . .-.   ...- . .-. - .. .-.. --. -   -... . --.- ..- . --   --.. .-- ---   .--. ..-. ..- -. -..   -.- .- .-.. -... ... .... .- -..- . -. .-.-.- "
     ]
    }
   ],
   "source": [
    "# for char in text.upper():\n",
    "#     print (char, end = \" \")\n",
    "for char in text.upper():\n",
    "    print(morse[char], end = \" \")"
   ]
  },
  {
   "cell_type": "code",
   "execution_count": 410,
   "metadata": {},
   "outputs": [
    {
     "name": "stdout",
     "output_type": "stream",
     "text": [
      "- .... .   --.- ..- .. -.-. -.-   -... .-. --- .-- -.   ..-. --- -..-   .--- ..- -- .--. ...   --- ...- . .-.   - .... .   .-.. .- --.. -.--   -.. --- --. \n"
     ]
    }
   ],
   "source": [
    "translation = \"\"\n",
    "for char in text.upper():\n",
    "    translation = translation + morse[char] + \" \"\n",
    "print(translation)"
   ]
  },
  {
   "cell_type": "markdown",
   "metadata": {},
   "source": [
    "### Doppelte Übersetzung\n",
    "\n",
    "Gegeben sind zwei Dictionaries `en_de` und `de_fr` sowie ein String. Die Dictionaries enthalten Übersetzungen von Englisch nach Deutsch und von Deutsch nach Französisch. Der String `text` in Englisch soll über Deutsch nach Französisch übersetzt werden."
   ]
  },
  {
   "cell_type": "code",
   "execution_count": 407,
   "metadata": {},
   "outputs": [],
   "source": [
    "text = \"the quick brown fox jumps over the lazy dog\"\n",
    "\n",
    "en_de = {\n",
    "    \"the\":\"der\", \"quick\": \"schnell\", \"brown\":\"braun\", \"fox\":\"fuchs\",\"jumps\":\"springt\",\"over\":\"über\",\"lazy\":\"faul\",\"dog\":\"hund\"\n",
    "}\n",
    "\n",
    "de_fr = {\n",
    "    \"der\":\"le\",\"schnell\":\"rapide\",\"braun\":\"brune\",\"fuchs\":\"renard\",\"springt\":\"claque\",\"über\":\"par\",\"faul\":\"pourri\",\"hund\":\"chien\"\n",
    "}"
   ]
  },
  {
   "cell_type": "code",
   "execution_count": 408,
   "metadata": {},
   "outputs": [
    {
     "name": "stdout",
     "output_type": "stream",
     "text": [
      "le\n",
      "rapide\n",
      "brune\n",
      "renard\n",
      "claque\n",
      "par\n",
      "le\n",
      "pourri\n",
      "chien\n"
     ]
    }
   ],
   "source": [
    "text_to_list = text.split()\n",
    "#print(text_to_list)\n",
    "en_de_translate = list(en_de.items())\n",
    "#print(en_de_translate)\n",
    "\n",
    "for i in range(0, len(text_to_list)):\n",
    "    for e_d in range(0, len(en_de_translate)):\n",
    "        if text_to_list[i] == en_de_translate[e_d][0]:\n",
    "            text_to_list[i] = en_de_translate[e_d][1]\n",
    "            continue\n",
    "\n",
    "#print(text_to_list)\n",
    "\n",
    "de_fr_translate = list(de_fr.items())\n",
    "for i in range(0, len(text_to_list)):\n",
    "    for e_d in range(0, len(de_fr_translate)):\n",
    "        if text_to_list[i] == de_fr_translate[e_d][0]:\n",
    "            text_to_list[i] = de_fr_translate[e_d][1]\n",
    "            continue\n",
    "        \n",
    "#print(text_to_list)\n",
    "\n",
    "for i in range(0,len(text_to_list)):\n",
    "    print(text_to_list[i])"
   ]
  },
  {
   "cell_type": "code",
   "execution_count": 413,
   "metadata": {},
   "outputs": [
    {
     "name": "stdout",
     "output_type": "stream",
     "text": [
      "der\n",
      "schnell\n",
      "braun\n",
      "fuchs\n",
      "springt\n",
      "über\n",
      "der\n",
      "faul\n",
      "hund\n"
     ]
    }
   ],
   "source": [
    "for element in text.split(\" \"):\n",
    "    print(en_de[element])"
   ]
  },
  {
   "cell_type": "code",
   "execution_count": 414,
   "metadata": {},
   "outputs": [
    {
     "name": "stdout",
     "output_type": "stream",
     "text": [
      "le\n",
      "rapide\n",
      "brune\n",
      "renard\n",
      "claque\n",
      "par\n",
      "le\n",
      "pourri\n",
      "chien\n"
     ]
    }
   ],
   "source": [
    "for element in text.split(\" \"):\n",
    "    print(de_fr[en_de[element]])"
   ]
  },
  {
   "cell_type": "code",
   "execution_count": null,
   "metadata": {},
   "outputs": [],
   "source": []
  }
 ],
 "metadata": {
  "kernelspec": {
   "display_name": "Python 3",
   "language": "python",
   "name": "python3"
  },
  "language_info": {
   "codemirror_mode": {
    "name": "ipython",
    "version": 3
   },
   "file_extension": ".py",
   "mimetype": "text/x-python",
   "name": "python",
   "nbconvert_exporter": "python",
   "pygments_lexer": "ipython3",
   "version": "3.12.0"
  }
 },
 "nbformat": 4,
 "nbformat_minor": 2
}
