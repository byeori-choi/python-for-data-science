{
 "cells": [
  {
   "cell_type": "markdown",
   "metadata": {},
   "source": [
    "### Tupel: Einführung"
   ]
  },
  {
   "cell_type": "code",
   "execution_count": null,
   "metadata": {},
   "outputs": [],
   "source": [
    "# keine gute Möglichkeit zu coden\n",
    "\n",
    "firstname1 = \"Max\"\n",
    "lastname1 = \"Mustermann\"\n",
    "\n",
    "firstname2 = \"Monika\"\n",
    "lastname2 = \"Mustermann\""
   ]
  },
  {
   "cell_type": "code",
   "execution_count": 9,
   "metadata": {},
   "outputs": [
    {
     "name": "stdout",
     "output_type": "stream",
     "text": [
      "('Max', 'Mustermann')\n",
      "('Maximilian', 'Mustermann')\n"
     ]
    }
   ],
   "source": [
    " # einzelne Elementen in einer Liste sind komplett anders -> Tupel\n",
    "\n",
    "student1 = (\"Max\", \"Mustermann\")\n",
    "student2 = (\"Monika\", \"Mustermann\")\n",
    "\n",
    "print(student1)\n",
    "\n",
    "# student1 = (\"Maximilian\", \"Mustermann\")\n",
    "# student1 = (\"Maximilian\", student1[1])\n",
    "print(student1)"
   ]
  },
  {
   "cell_type": "code",
   "execution_count": 3,
   "metadata": {},
   "outputs": [],
   "source": [
    "#eine Tupel ist unveränderlich\n",
    "\n",
    "#student1[0] = \"Maximilian\"\n",
    "\n",
    "# bei Tuppel geht \"append\" nicht\n",
    "\n",
    "#student1.append(\"123\")"
   ]
  },
  {
   "cell_type": "markdown",
   "metadata": {},
   "source": [
    "### Tupel entpacken"
   ]
  },
  {
   "cell_type": "code",
   "execution_count": 11,
   "metadata": {},
   "outputs": [
    {
     "name": "stdout",
     "output_type": "stream",
     "text": [
      "Max Mustermann\n"
     ]
    }
   ],
   "source": [
    "student1 = (\"Max\", \"Mustermann\")\n",
    "\n",
    "# student1_firstname = student1[0]\n",
    "# student1_lastname = student1[1]\n",
    "\n",
    "student1_firstname, student1_lastname = student1 # so geht's auch\n",
    "\n",
    "print(student1_firstname + \" \" + student1_lastname)"
   ]
  },
  {
   "cell_type": "markdown",
   "metadata": {},
   "source": [
    "### Quiz"
   ]
  },
  {
   "cell_type": "code",
   "execution_count": 13,
   "metadata": {},
   "outputs": [
    {
     "name": "stdout",
     "output_type": "stream",
     "text": [
      "('Monika', 'Mustermann')\n"
     ]
    }
   ],
   "source": [
    "student1 = (\"Max\", \"Mustermann\")\n",
    "student2 = (\"Monika\", \"Mustermann\")\n",
    "student3 = (\"Matthias\", \"Mustermann\")\n",
    "students = (student1, student2, student3)\n",
    "\n",
    "print(students[1])"
   ]
  },
  {
   "cell_type": "markdown",
   "metadata": {},
   "source": [
    "### Aufgabe\n",
    "Gegeben ist folgender Code:"
   ]
  },
  {
   "cell_type": "code",
   "execution_count": 14,
   "metadata": {},
   "outputs": [],
   "source": [
    "d = (\"Fuchs\", [40, 50, 60, 70], [\"Hase\", \"Igel\"])"
   ]
  },
  {
   "cell_type": "markdown",
   "metadata": {},
   "source": [
    "a) Ausgabe soll sein: `60`\n",
    "  \n",
    "Wie lautet der Code?"
   ]
  },
  {
   "cell_type": "code",
   "execution_count": 15,
   "metadata": {},
   "outputs": [
    {
     "name": "stdout",
     "output_type": "stream",
     "text": [
      "60\n"
     ]
    }
   ],
   "source": [
    "d1, d2, d3 = d\n",
    "print(d2[2])"
   ]
  },
  {
   "cell_type": "code",
   "execution_count": 20,
   "metadata": {},
   "outputs": [
    {
     "name": "stdout",
     "output_type": "stream",
     "text": [
      "60\n",
      "60\n"
     ]
    }
   ],
   "source": [
    "a = d[1]\n",
    "print(a[2])\n",
    "\n",
    "print(d[1][2]) # print das drittes Element vom zweiten Element von d"
   ]
  },
  {
   "cell_type": "markdown",
   "metadata": {},
   "source": [
    "b) Ausgabe soll sein: `[\"Hase\", \"Igel\"]`\n",
    "\n",
    "Wie lautet der Code?"
   ]
  },
  {
   "cell_type": "code",
   "execution_count": 16,
   "metadata": {},
   "outputs": [
    {
     "name": "stdout",
     "output_type": "stream",
     "text": [
      "['Hase', 'Igel']\n"
     ]
    }
   ],
   "source": [
    "print(d[2])"
   ]
  },
  {
   "cell_type": "markdown",
   "metadata": {},
   "source": [
    "c) Ausgabe soll sein: `Fuchs`\n",
    "\n",
    "Wie lautet der Code?"
   ]
  },
  {
   "cell_type": "code",
   "execution_count": 17,
   "metadata": {},
   "outputs": [
    {
     "name": "stdout",
     "output_type": "stream",
     "text": [
      "Fuchs\n"
     ]
    }
   ],
   "source": [
    "print(d[0])"
   ]
  }
 ],
 "metadata": {
  "kernelspec": {
   "display_name": "Python 3",
   "language": "python",
   "name": "python3"
  },
  "language_info": {
   "codemirror_mode": {
    "name": "ipython",
    "version": 3
   },
   "file_extension": ".py",
   "mimetype": "text/x-python",
   "name": "python",
   "nbconvert_exporter": "python",
   "pygments_lexer": "ipython3",
   "version": "3.12.0"
  }
 },
 "nbformat": 4,
 "nbformat_minor": 2
}
