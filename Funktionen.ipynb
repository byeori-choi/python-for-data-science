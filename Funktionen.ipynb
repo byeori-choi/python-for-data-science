{
 "cells": [
  {
   "cell_type": "markdown",
   "metadata": {},
   "source": [
    "### Funktionen\n",
    "So kann ein Code später ausgeführt werden...\n"
   ]
  },
  {
   "cell_type": "code",
   "execution_count": 3,
   "metadata": {},
   "outputs": [],
   "source": [
    "def f():\n",
    "    print(\"Ich bin ein Text\")\n",
    "    print(\"Ich bin ein Text\")"
   ]
  },
  {
   "cell_type": "code",
   "execution_count": 5,
   "metadata": {},
   "outputs": [
    {
     "name": "stdout",
     "output_type": "stream",
     "text": [
      "Ich bin ein Text\n",
      "Ich bin ein Text\n"
     ]
    }
   ],
   "source": [
    "f()"
   ]
  },
  {
   "cell_type": "markdown",
   "metadata": {},
   "source": [
    "### Funktionen und Parameter"
   ]
  },
  {
   "cell_type": "code",
   "execution_count": 7,
   "metadata": {},
   "outputs": [],
   "source": [
    "def f():\n",
    "    n = 3\n",
    "    for i in range (0,n):\n",
    "        print(\"Ich bin ein Text\")"
   ]
  },
  {
   "cell_type": "code",
   "execution_count": 9,
   "metadata": {},
   "outputs": [],
   "source": [
    "def f(n):\n",
    "    for i in range (0,n):\n",
    "        print(\"Ich bin ein Text\")"
   ]
  },
  {
   "cell_type": "code",
   "execution_count": 10,
   "metadata": {},
   "outputs": [
    {
     "name": "stdout",
     "output_type": "stream",
     "text": [
      "Ich bin ein Text\n",
      "Ich bin ein Text\n",
      "Ich bin ein Text\n",
      "Ich bin ein Text\n",
      "Ich bin ein Text\n",
      "Ich bin ein Text\n"
     ]
    }
   ],
   "source": [
    "f(6)"
   ]
  },
  {
   "cell_type": "code",
   "execution_count": 11,
   "metadata": {},
   "outputs": [
    {
     "name": "stdout",
     "output_type": "stream",
     "text": [
      "Ich bin ein Text\n",
      "Ich bin ein Text\n",
      "Ich bin ein Text\n",
      "Ich bin ein Text\n",
      "Ich bin ein Text\n"
     ]
    }
   ],
   "source": [
    "p = 5\n",
    "f(p)"
   ]
  },
  {
   "cell_type": "code",
   "execution_count": 12,
   "metadata": {},
   "outputs": [
    {
     "name": "stdout",
     "output_type": "stream",
     "text": [
      "Ich bin ein Text\n",
      "Ich bin ein Text\n"
     ]
    }
   ],
   "source": [
    "n = 2\n",
    "f(n)"
   ]
  },
  {
   "cell_type": "code",
   "execution_count": 13,
   "metadata": {},
   "outputs": [
    {
     "name": "stdout",
     "output_type": "stream",
     "text": [
      "12\n"
     ]
    }
   ],
   "source": [
    "def add(a, b):\n",
    "    print(a + b)\n",
    "\n",
    "add(5,7)"
   ]
  },
  {
   "cell_type": "markdown",
   "metadata": {},
   "source": [
    "### Funktionen, Benannte Parameter, Standardparameter"
   ]
  },
  {
   "cell_type": "code",
   "execution_count": 15,
   "metadata": {},
   "outputs": [],
   "source": [
    "def f(n=3): # n=3 ist ein Standardparameter. Wenn das Parameter nicht angegeben wird, ist n standardmäßig 3\n",
    "    for i in range(0,n):\n",
    "        print(\"Ich bin ein Text\")"
   ]
  },
  {
   "cell_type": "code",
   "execution_count": 17,
   "metadata": {},
   "outputs": [
    {
     "name": "stdout",
     "output_type": "stream",
     "text": [
      "Ich bin ein Text\n",
      "Ich bin ein Text\n",
      "Ich bin ein Text\n"
     ]
    }
   ],
   "source": [
    "f() # ohne Parameter funktioniert auch"
   ]
  },
  {
   "cell_type": "code",
   "execution_count": 23,
   "metadata": {},
   "outputs": [
    {
     "name": "stdout",
     "output_type": "stream",
     "text": [
      "9\n",
      "13\n"
     ]
    }
   ],
   "source": [
    "def add(a, b = 5):\n",
    "    print(a+b)\n",
    "\n",
    "add(4)\n",
    "add(4,9)"
   ]
  },
  {
   "cell_type": "code",
   "execution_count": 28,
   "metadata": {},
   "outputs": [
    {
     "name": "stdout",
     "output_type": "stream",
     "text": [
      "a = 11\n",
      "b = 10\n",
      "a = 3\n",
      "b = 4\n",
      "a = 4\n",
      "b = 3\n"
     ]
    }
   ],
   "source": [
    "def z(a,b):\n",
    "    print(\"a = \" + str(a))\n",
    "    print(\"b = \" + str(b))\n",
    "\n",
    "a = 10\n",
    "b = 11\n",
    "\n",
    "z(b = a, a = b)\n",
    "z(a = 3, b = 4)\n",
    "z(b = 3, a = 4)"
   ]
  },
  {
   "cell_type": "markdown",
   "metadata": {},
   "source": [
    "### Rückgabewerte (Return)\n",
    "Mit \"return\" können Werte zurückgegeben werden und die Werte können außerhalb der Funktion nochmal kalkuliert werden.\n",
    "Return beendet die Funktion. z.B. wenn nach dem \"Return\" eine print-Funktion steht, trotzdem wird die print-Funktion nicht ausgeführt."
   ]
  },
  {
   "cell_type": "code",
   "execution_count": 30,
   "metadata": {},
   "outputs": [
    {
     "name": "stdout",
     "output_type": "stream",
     "text": [
      "11\n"
     ]
    }
   ],
   "source": [
    "def add(parameter_a, parameter_b):\n",
    "    print(parameter_a + parameter_b)\n",
    "\n",
    "add(5,6)"
   ]
  },
  {
   "cell_type": "code",
   "execution_count": 32,
   "metadata": {},
   "outputs": [
    {
     "name": "stdout",
     "output_type": "stream",
     "text": [
      "9.0\n"
     ]
    }
   ],
   "source": [
    "import math\n",
    "\n",
    "print(math.sqrt(25) + 4)"
   ]
  },
  {
   "cell_type": "code",
   "execution_count": 40,
   "metadata": {},
   "outputs": [
    {
     "name": "stdout",
     "output_type": "stream",
     "text": [
      "Test\n",
      "16\n"
     ]
    }
   ],
   "source": [
    "def add(parameter_a, parameter_b):\n",
    "    #print(parameter_a + parameter_b) # Hier wird das Ergebnis ausgegeben aber nicht zurückgegeben. Dann landet bei \"add(5,7)\" spezialer Typ \"None\".\n",
    "    print(\"Test\")\n",
    "    return (parameter_a + parameter_b) # Mit \"return\" können Werte zurückgegeben werden -> mit dem Ergebnis kalkulieren möglich\n",
    "\n",
    "#print(add(5,7) + 5) # Error kommt vor, weil in der Funktion schon \"print\" steht\n",
    "\n",
    "#print(None + 5)\n",
    "\n",
    "print(add(5,7) + 4)"
   ]
  },
  {
   "cell_type": "code",
   "execution_count": 42,
   "metadata": {},
   "outputs": [
    {
     "name": "stdout",
     "output_type": "stream",
     "text": [
      "15\n"
     ]
    }
   ],
   "source": [
    "def add(parameter_a, parameter_b):\n",
    "    return (parameter_a + parameter_b)\n",
    "    print(\"Test\")\n",
    "\n",
    "print(add(4,6) + 5)"
   ]
  },
  {
   "cell_type": "code",
   "execution_count": 44,
   "metadata": {},
   "outputs": [
    {
     "ename": "TypeError",
     "evalue": "unsupported operand type(s) for +: 'NoneType' and 'int'",
     "output_type": "error",
     "traceback": [
      "\u001b[1;31m---------------------------------------------------------------------------\u001b[0m",
      "\u001b[1;31mTypeError\u001b[0m                                 Traceback (most recent call last)",
      "Cell \u001b[1;32mIn[44], line 6\u001b[0m\n\u001b[0;32m      3\u001b[0m    \u001b[38;5;28;01mreturn\u001b[39;00m (parameter_a \u001b[38;5;241m+\u001b[39m parameter_b)\n\u001b[0;32m      4\u001b[0m    \u001b[38;5;28mprint\u001b[39m(\u001b[38;5;124m\"\u001b[39m\u001b[38;5;124mTest\u001b[39m\u001b[38;5;124m\"\u001b[39m)\n\u001b[1;32m----> 6\u001b[0m \u001b[38;5;28mprint\u001b[39m(\u001b[43madd\u001b[49m\u001b[43m(\u001b[49m\u001b[38;5;241;43m4\u001b[39;49m\u001b[43m,\u001b[49m\u001b[38;5;241;43m6\u001b[39;49m\u001b[43m)\u001b[49m\u001b[43m \u001b[49m\u001b[38;5;241;43m+\u001b[39;49m\u001b[43m \u001b[49m\u001b[38;5;241;43m5\u001b[39;49m)\n",
      "\u001b[1;31mTypeError\u001b[0m: unsupported operand type(s) for +: 'NoneType' and 'int'"
     ]
    }
   ],
   "source": [
    " def add(parameter_a, parameter_b):\n",
    "    return # Die Funktion soll direkt beendet werden\n",
    "    return (parameter_a + parameter_b)\n",
    "    print(\"Test\")\n",
    "\n",
    "print(add(4,6) + 5)"
   ]
  },
  {
   "cell_type": "code",
   "execution_count": 45,
   "metadata": {},
   "outputs": [
    {
     "name": "stdout",
     "output_type": "stream",
     "text": [
      "15\n"
     ]
    }
   ],
   "source": [
    " def add(parameter_a, parameter_b):\n",
    "    return (parameter_a + parameter_b)\n",
    "\n",
    "print(add(4,6) + 5)"
   ]
  },
  {
   "cell_type": "code",
   "execution_count": 47,
   "metadata": {},
   "outputs": [
    {
     "name": "stdout",
     "output_type": "stream",
     "text": [
      "3\n"
     ]
    }
   ],
   "source": [
    "def max2(a, b):\n",
    "    if a > b:\n",
    "        return a\n",
    "    else:\n",
    "        return b\n",
    "    \n",
    "print(max2(1,3))"
   ]
  },
  {
   "cell_type": "code",
   "execution_count": null,
   "metadata": {},
   "outputs": [],
   "source": []
  }
 ],
 "metadata": {
  "kernelspec": {
   "display_name": "Python 3",
   "language": "python",
   "name": "python3"
  },
  "language_info": {
   "codemirror_mode": {
    "name": "ipython",
    "version": 3
   },
   "file_extension": ".py",
   "mimetype": "text/x-python",
   "name": "python",
   "nbconvert_exporter": "python",
   "pygments_lexer": "ipython3",
   "version": "3.12.0"
  }
 },
 "nbformat": 4,
 "nbformat_minor": 2
}
